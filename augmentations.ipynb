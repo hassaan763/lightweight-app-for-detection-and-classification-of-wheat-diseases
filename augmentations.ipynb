{
 "cells": [
  {
   "cell_type": "code",
   "execution_count": 2,
   "id": "51d2fc36-60d1-402b-adbf-bc66df703940",
   "metadata": {},
   "outputs": [
    {
     "name": "stdout",
     "output_type": "stream",
     "text": [
      "2.5.1\n"
     ]
    }
   ],
   "source": [
    "import torch\n",
    "print(torch.__version__)\n"
   ]
  },
  {
   "cell_type": "code",
   "execution_count": 3,
   "id": "38fcabff-dccc-4242-9ce6-a940e33cb0ee",
   "metadata": {},
   "outputs": [
    {
     "name": "stdout",
     "output_type": "stream",
     "text": [
      "True\n"
     ]
    }
   ],
   "source": [
    "print(torch.cuda.is_available())\n"
   ]
  },
  {
   "cell_type": "code",
   "execution_count": 4,
   "id": "20c0fbc6-1457-4f2e-b186-508b48d96cd4",
   "metadata": {},
   "outputs": [
    {
     "name": "stdout",
     "output_type": "stream",
     "text": [
      "NVIDIA GeForce RTX 3050 Laptop GPU\n"
     ]
    }
   ],
   "source": [
    "print(torch.cuda.get_device_name(0))\n"
   ]
  },
  {
   "cell_type": "code",
   "execution_count": null,
   "id": "d35dadbc-8114-4d0f-ba8e-9094e2efda1a",
   "metadata": {},
   "outputs": [],
   "source": []
  },
  {
   "cell_type": "code",
   "execution_count": null,
   "id": "33a7ba38-4617-455b-9580-d105f3719dd2",
   "metadata": {},
   "outputs": [
    {
     "name": "stdout",
     "output_type": "stream",
     "text": [
      "📂 Reading from: /home/hassaan-ahmad/1st copy\n",
      "💾 Saving to: /home/hassaan-ahmad/augmented dataset\n",
      "🔄 Processing 'Healthy': 1723 images\n"
     ]
    },
    {
     "name": "stderr",
     "output_type": "stream",
     "text": [
      "Augmenting Healthy: 100%|███████████████████████████████████████████████████████████████████████████████████████████████████████████████████████████| 1723/1723 [02:48<00:00, 10.21it/s]\n"
     ]
    },
    {
     "name": "stdout",
     "output_type": "stream",
     "text": [
      "✅ Completed 'Healthy' - Total saved: 3446\n",
      "🔄 Processing 'Leaf Rust': 1027 images\n"
     ]
    },
    {
     "name": "stderr",
     "output_type": "stream",
     "text": [
      "Augmenting Leaf Rust: 100%|█████████████████████████████████████████████████████████████████████████████████████████████████████████████████████████| 1027/1027 [03:06<00:00,  5.49it/s]\n"
     ]
    },
    {
     "name": "stdout",
     "output_type": "stream",
     "text": [
      "✅ Completed 'Leaf Rust' - Total saved: 2054\n",
      "🔄 Processing 'Yellow Rust': 1395 images\n"
     ]
    },
    {
     "name": "stderr",
     "output_type": "stream",
     "text": [
      "Augmenting Yellow Rust: 100%|███████████████████████████████████████████████████████████████████████████████████████████████████████████████████████| 1395/1395 [00:49<00:00, 28.00it/s]\n"
     ]
    },
    {
     "name": "stdout",
     "output_type": "stream",
     "text": [
      "✅ Completed 'Yellow Rust' - Total saved: 2790\n",
      "🔄 Processing 'Loose Smut': 927 images\n"
     ]
    },
    {
     "name": "stderr",
     "output_type": "stream",
     "text": [
      "Augmenting Loose Smut: 100%|██████████████████████████████████████████████████████████████████████████████████████████████████████████████████████████| 927/927 [00:12<00:00, 72.49it/s]\n"
     ]
    },
    {
     "name": "stdout",
     "output_type": "stream",
     "text": [
      "✅ Completed 'Loose Smut' - Total saved: 1854\n",
      "🔄 Processing 'Septoria': 446 images\n"
     ]
    },
    {
     "name": "stderr",
     "output_type": "stream",
     "text": [
      "Augmenting Septoria: 100%|████████████████████████████████████████████████████████████████████████████████████████████████████████████████████████████| 446/446 [01:49<00:00,  4.09it/s]\n"
     ]
    },
    {
     "name": "stdout",
     "output_type": "stream",
     "text": [
      "✅ Completed 'Septoria' - Total saved: 892\n",
      "🔄 Processing 'Brown Rust': 1256 images\n"
     ]
    },
    {
     "name": "stderr",
     "output_type": "stream",
     "text": [
      "Augmenting Brown Rust:  88%|█████████████████████████████████████████████████████████████████████████████████████████████████████████▌              | 1105/1256 [00:32<00:09, 16.34it/s]"
     ]
    }
   ],
   "source": [
    "import os\n",
    "import random\n",
    "import shutil\n",
    "from PIL import Image\n",
    "from torchvision import transforms\n",
    "from tqdm import tqdm\n",
    "\n",
    "def augment_and_copy_dataset(input_dir, output_dir):\n",
    "    # Check if input path exists\n",
    "    if not os.path.exists(input_dir):\n",
    "        print(f\"❌ Input path does not exist: {input_dir}\")\n",
    "        return\n",
    "\n",
    "    print(f\"📂 Reading from: {input_dir}\")\n",
    "    print(f\"💾 Saving to: {output_dir}\")\n",
    "    os.makedirs(output_dir, exist_ok=True)\n",
    "\n",
    "    # Define transformations\n",
    "    transform_list = [\n",
    "        transforms.RandomHorizontalFlip(p=1.0),\n",
    "        transforms.RandomVerticalFlip(p=1.0),\n",
    "        transforms.RandomRotation(degrees=30),\n",
    "        transforms.ColorJitter(brightness=0.4, contrast=0.4, saturation=0.4),\n",
    "    ]\n",
    "\n",
    "    class_folders = [f for f in os.listdir(input_dir) if os.path.isdir(os.path.join(input_dir, f))]\n",
    "\n",
    "    if not class_folders:\n",
    "        print(\"⚠️ No class folders found in input path.\")\n",
    "        return\n",
    "\n",
    "    for class_folder in class_folders:\n",
    "        input_class_path = os.path.join(input_dir, class_folder)\n",
    "        output_class_path = os.path.join(output_dir, class_folder)\n",
    "        os.makedirs(output_class_path, exist_ok=True)\n",
    "\n",
    "        images = [f for f in os.listdir(input_class_path) if f.lower().endswith(('.jpg', '.jpeg', '.png'))]\n",
    "\n",
    "        if not images:\n",
    "            print(f\"⚠️ No images found in: {input_class_path}\")\n",
    "            continue\n",
    "\n",
    "        print(f\"🔄 Processing '{class_folder}': {len(images)} images\")\n",
    "\n",
    "        for img_name in tqdm(images, desc=f\"Augmenting {class_folder}\"):\n",
    "            input_img_path = os.path.join(input_class_path, img_name)\n",
    "            output_img_path = os.path.join(output_class_path, img_name)\n",
    "\n",
    "            try:\n",
    "                image = Image.open(input_img_path).convert('RGB')\n",
    "            except Exception as e:\n",
    "                print(f\"❌ Skipping unreadable image: {input_img_path}\")\n",
    "                continue\n",
    "\n",
    "            # Copy original image\n",
    "            shutil.copy(input_img_path, output_img_path)\n",
    "\n",
    "            # Apply random transformation\n",
    "            transform = random.choice(transform_list)\n",
    "            augmented = transform(image)\n",
    "\n",
    "            # Save augmented image\n",
    "            base, ext = os.path.splitext(img_name)\n",
    "            new_img_name = f\"{base}_aug{ext}\"\n",
    "            augmented.save(os.path.join(output_class_path, new_img_name))\n",
    "\n",
    "        print(f\"✅ Completed '{class_folder}' - Total saved: {len(images) * 2}\")\n",
    "\n",
    "    print(\"🎉 Augmentation finished for all folders.\")\n",
    "\n",
    "# Run this section\n",
    "if __name__ == \"__main__\":\n",
    "    input_path = \"/home/hassaan-ahmad/1st copy\"\n",
    "    output_path = \"/home/hassaan-ahmad/augmented dataset\"\n",
    "    augment_and_copy_dataset(input_path, output_path)\n"
   ]
  },
  {
   "cell_type": "code",
   "execution_count": null,
   "id": "17e163ee-a25f-4469-8e1d-8a0c17850ceb",
   "metadata": {},
   "outputs": [],
   "source": []
  }
 ],
 "metadata": {
  "kernelspec": {
   "display_name": "Python 3 (ipykernel)",
   "language": "python",
   "name": "python3"
  },
  "language_info": {
   "codemirror_mode": {
    "name": "ipython",
    "version": 3
   },
   "file_extension": ".py",
   "mimetype": "text/x-python",
   "name": "python",
   "nbconvert_exporter": "python",
   "pygments_lexer": "ipython3",
   "version": "3.12.7"
  }
 },
 "nbformat": 4,
 "nbformat_minor": 5
}
