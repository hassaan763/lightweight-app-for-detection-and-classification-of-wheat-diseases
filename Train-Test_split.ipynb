{
 "cells": [
  {
   "cell_type": "code",
   "execution_count": 2,
   "id": "20857879-d3c5-41ea-87d8-3c6162b6ea75",
   "metadata": {},
   "outputs": [
    {
     "name": "stdout",
     "output_type": "stream",
     "text": [
      "📂 Reading from: /home/hassaan-ahmad/augmented dataset\n",
      "💾 Saving to: /home/hassaan-ahmad/aug_data_train_test\n"
     ]
    },
    {
     "name": "stderr",
     "output_type": "stream",
     "text": [
      "                                                                                                                                                                                        \r"
     ]
    },
    {
     "name": "stdout",
     "output_type": "stream",
     "text": [
      "✅ Done: 'Healthy' → Train=2412, Test=689, Val=345\n"
     ]
    },
    {
     "name": "stderr",
     "output_type": "stream",
     "text": [
      "                                                                                                                                                                                        \r"
     ]
    },
    {
     "name": "stdout",
     "output_type": "stream",
     "text": [
      "✅ Done: 'Leaf Rust' → Train=1437, Test=410, Val=207\n"
     ]
    },
    {
     "name": "stderr",
     "output_type": "stream",
     "text": [
      "                                                                                                                                                                                        \r"
     ]
    },
    {
     "name": "stdout",
     "output_type": "stream",
     "text": [
      "✅ Done: 'Yellow Rust' → Train=1952, Test=558, Val=280\n"
     ]
    },
    {
     "name": "stderr",
     "output_type": "stream",
     "text": [
      "                                                                                                                                                                                        \r"
     ]
    },
    {
     "name": "stdout",
     "output_type": "stream",
     "text": [
      "✅ Done: 'Loose Smut' → Train=1297, Test=370, Val=187\n"
     ]
    },
    {
     "name": "stderr",
     "output_type": "stream",
     "text": [
      "                                                                                                                                                                                        \r"
     ]
    },
    {
     "name": "stdout",
     "output_type": "stream",
     "text": [
      "✅ Done: 'Septoria' → Train=624, Test=178, Val=90\n"
     ]
    },
    {
     "name": "stderr",
     "output_type": "stream",
     "text": [
      "                                                                                                                                                                                        \r"
     ]
    },
    {
     "name": "stdout",
     "output_type": "stream",
     "text": [
      "✅ Done: 'Brown Rust' → Train=1758, Test=502, Val=252\n"
     ]
    },
    {
     "name": "stderr",
     "output_type": "stream",
     "text": [
      "                                                                                                                                                                                        "
     ]
    },
    {
     "name": "stdout",
     "output_type": "stream",
     "text": [
      "✅ Done: 'Stripe Rust' → Train=291, Test=83, Val=42\n",
      "🎉 Split complete: 70% Train, 20% Test, 10% Val\n"
     ]
    },
    {
     "name": "stderr",
     "output_type": "stream",
     "text": [
      "\r"
     ]
    }
   ],
   "source": [
    "import os\n",
    "import shutil\n",
    "import random\n",
    "from tqdm import tqdm\n",
    "\n",
    "def split_dataset(input_dir, output_dir, train_ratio=0.7, test_ratio=0.2, val_ratio=0.1):\n",
    "    assert abs(train_ratio + test_ratio + val_ratio - 1.0) < 1e-5, \"Ratios must sum to 1\"\n",
    "\n",
    "    print(f\"📂 Reading from: {input_dir}\")\n",
    "    print(f\"💾 Saving to: {output_dir}\")\n",
    "    os.makedirs(output_dir, exist_ok=True)\n",
    "\n",
    "    for split in ['train', 'test', 'val']:\n",
    "        os.makedirs(os.path.join(output_dir, split), exist_ok=True)\n",
    "\n",
    "    class_folders = [f for f in os.listdir(input_dir) if os.path.isdir(os.path.join(input_dir, f))]\n",
    "\n",
    "    for class_name in class_folders:\n",
    "        input_class_path = os.path.join(input_dir, class_name)\n",
    "\n",
    "        images = [f for f in os.listdir(input_class_path) if f.lower().endswith(('.jpg', '.jpeg', '.png'))]\n",
    "        if not images:\n",
    "            print(f\"⚠️ No images found in class '{class_name}', skipping.\")\n",
    "            continue\n",
    "\n",
    "        random.shuffle(images)\n",
    "        total = len(images)\n",
    "        train_end = int(train_ratio * total)\n",
    "        test_end = train_end + int(test_ratio * total)\n",
    "\n",
    "        splits = {\n",
    "            'train': images[:train_end],\n",
    "            'test': images[train_end:test_end],\n",
    "            'val': images[test_end:]\n",
    "        }\n",
    "\n",
    "        for split, split_images in splits.items():\n",
    "            split_class_path = os.path.join(output_dir, split, class_name)\n",
    "            os.makedirs(split_class_path, exist_ok=True)\n",
    "\n",
    "            for img in tqdm(split_images, desc=f\"{split.upper()} | {class_name}\", leave=False):\n",
    "                src = os.path.join(input_class_path, img)\n",
    "                dst = os.path.join(split_class_path, img)\n",
    "                shutil.copy(src, dst)\n",
    "\n",
    "        print(f\"✅ Done: '{class_name}' → Train={train_end}, Test={test_end - train_end}, Val={total - test_end}\")\n",
    "\n",
    "    print(\"🎉 Split complete: 70% Train, 20% Test, 10% Val\")\n",
    "\n",
    "if __name__ == \"__main__\":\n",
    "    input_path = \"/home/hassaan-ahmad/augmented dataset\"\n",
    "    output_path = \"/home/hassaan-ahmad/aug_data_train_test\"\n",
    "    split_dataset(input_path, output_path)\n"
   ]
  },
  {
   "cell_type": "code",
   "execution_count": null,
   "id": "d933766d-f620-4c89-8f44-625214503c90",
   "metadata": {},
   "outputs": [],
   "source": []
  }
 ],
 "metadata": {
  "kernelspec": {
   "display_name": "Python 3 (ipykernel)",
   "language": "python",
   "name": "python3"
  },
  "language_info": {
   "codemirror_mode": {
    "name": "ipython",
    "version": 3
   },
   "file_extension": ".py",
   "mimetype": "text/x-python",
   "name": "python",
   "nbconvert_exporter": "python",
   "pygments_lexer": "ipython3",
   "version": "3.12.7"
  }
 },
 "nbformat": 4,
 "nbformat_minor": 5
}
